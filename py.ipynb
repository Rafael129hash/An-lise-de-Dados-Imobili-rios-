{
 "cells": [
  {
   "cell_type": "markdown",
   "metadata": {},
   "source": [
    "# Análise de Dados Imobiliarios \n",
    "\n",
    "A análise foi feita de acordo com o Dataset forecidoo no site www.kaggle.com\n",
    "\n",
    " Perguntas Que serão Respondidas:\n",
    "\n",
    "1. Qual é a distribuição das vendas e margens de lucro?\n",
    "2. Qual categoria gerou a maior receita total?\n",
    "3. Existe algum padrão sazonal nas vendas?\n",
    "4. Qual estação teve o maior total de vendas?\n",
    "5. Qual localização tem a maior média de vendas por produto?\n",
    "6. Existem diferenças nas vendas ou margens de lucro com base na localização (rural, suburbana, urbana)?"
   ]
  },
  {
   "cell_type": "markdown",
   "metadata": {},
   "source": [
    "#"
   ]
  },
  {
   "cell_type": "markdown",
   "metadata": {},
   "source": [
    "# Importando as Ferramentas e informações"
   ]
  },
  {
   "cell_type": "code",
   "execution_count": 12,
   "metadata": {},
   "outputs": [
    {
     "data": {
      "text/html": [
       "<div>\n",
       "<style scoped>\n",
       "    .dataframe tbody tr th:only-of-type {\n",
       "        vertical-align: middle;\n",
       "    }\n",
       "\n",
       "    .dataframe tbody tr th {\n",
       "        vertical-align: top;\n",
       "    }\n",
       "\n",
       "    .dataframe thead th {\n",
       "        text-align: right;\n",
       "    }\n",
       "</style>\n",
       "<table border=\"1\" class=\"dataframe\">\n",
       "  <thead>\n",
       "    <tr style=\"text-align: right;\">\n",
       "      <th></th>\n",
       "      <th>price</th>\n",
       "      <th>cost</th>\n",
       "      <th>sales</th>\n",
       "      <th>profit_margin</th>\n",
       "      <th>inventory</th>\n",
       "      <th>discount_percentage</th>\n",
       "      <th>delivery_days</th>\n",
       "      <th>category</th>\n",
       "      <th>material</th>\n",
       "      <th>color</th>\n",
       "      <th>location</th>\n",
       "      <th>season</th>\n",
       "      <th>store_type</th>\n",
       "      <th>brand</th>\n",
       "      <th>revenue</th>\n",
       "    </tr>\n",
       "  </thead>\n",
       "  <tbody>\n",
       "    <tr>\n",
       "      <th>0</th>\n",
       "      <td>218.543053</td>\n",
       "      <td>181.610932</td>\n",
       "      <td>40</td>\n",
       "      <td>16.899243</td>\n",
       "      <td>105</td>\n",
       "      <td>27.796433</td>\n",
       "      <td>9</td>\n",
       "      <td>Bed</td>\n",
       "      <td>Plastic</td>\n",
       "      <td>Red</td>\n",
       "      <td>Rural</td>\n",
       "      <td>Spring</td>\n",
       "      <td>Online</td>\n",
       "      <td>BrandA</td>\n",
       "      <td>3949.165238</td>\n",
       "    </tr>\n",
       "    <tr>\n",
       "      <th>1</th>\n",
       "      <td>477.821438</td>\n",
       "      <td>385.033827</td>\n",
       "      <td>7</td>\n",
       "      <td>19.418888</td>\n",
       "      <td>192</td>\n",
       "      <td>26.943715</td>\n",
       "      <td>6</td>\n",
       "      <td>Chair</td>\n",
       "      <td>Glass</td>\n",
       "      <td>Blue</td>\n",
       "      <td>Rural</td>\n",
       "      <td>Summer</td>\n",
       "      <td>Online</td>\n",
       "      <td>BrandD</td>\n",
       "      <td>-3521.002258</td>\n",
       "    </tr>\n",
       "    <tr>\n",
       "      <th>2</th>\n",
       "      <td>379.397274</td>\n",
       "      <td>276.736765</td>\n",
       "      <td>32</td>\n",
       "      <td>27.058842</td>\n",
       "      <td>59</td>\n",
       "      <td>21.948130</td>\n",
       "      <td>2</td>\n",
       "      <td>Table</td>\n",
       "      <td>Metal</td>\n",
       "      <td>Black</td>\n",
       "      <td>Suburban</td>\n",
       "      <td>Fall</td>\n",
       "      <td>Online</td>\n",
       "      <td>BrandD</td>\n",
       "      <td>14285.560219</td>\n",
       "    </tr>\n",
       "    <tr>\n",
       "      <th>3</th>\n",
       "      <td>319.396318</td>\n",
       "      <td>281.841334</td>\n",
       "      <td>48</td>\n",
       "      <td>11.758114</td>\n",
       "      <td>45</td>\n",
       "      <td>11.009944</td>\n",
       "      <td>2</td>\n",
       "      <td>Table</td>\n",
       "      <td>Glass</td>\n",
       "      <td>Green</td>\n",
       "      <td>Rural</td>\n",
       "      <td>Summer</td>\n",
       "      <td>Retail</td>\n",
       "      <td>BrandD</td>\n",
       "      <td>12261.073703</td>\n",
       "    </tr>\n",
       "    <tr>\n",
       "      <th>4</th>\n",
       "      <td>120.208388</td>\n",
       "      <td>69.743681</td>\n",
       "      <td>19</td>\n",
       "      <td>41.981019</td>\n",
       "      <td>35</td>\n",
       "      <td>3.183763</td>\n",
       "      <td>9</td>\n",
       "      <td>Chair</td>\n",
       "      <td>Glass</td>\n",
       "      <td>Brown</td>\n",
       "      <td>Rural</td>\n",
       "      <td>Fall</td>\n",
       "      <td>Online</td>\n",
       "      <td>BrandD</td>\n",
       "      <td>-4588.255733</td>\n",
       "    </tr>\n",
       "  </tbody>\n",
       "</table>\n",
       "</div>"
      ],
      "text/plain": [
       "        price        cost  sales  profit_margin  inventory  \\\n",
       "0  218.543053  181.610932     40      16.899243        105   \n",
       "1  477.821438  385.033827      7      19.418888        192   \n",
       "2  379.397274  276.736765     32      27.058842         59   \n",
       "3  319.396318  281.841334     48      11.758114         45   \n",
       "4  120.208388   69.743681     19      41.981019         35   \n",
       "\n",
       "   discount_percentage  delivery_days category material  color  location  \\\n",
       "0            27.796433              9      Bed  Plastic    Red     Rural   \n",
       "1            26.943715              6    Chair    Glass   Blue     Rural   \n",
       "2            21.948130              2    Table    Metal  Black  Suburban   \n",
       "3            11.009944              2    Table    Glass  Green     Rural   \n",
       "4             3.183763              9    Chair    Glass  Brown     Rural   \n",
       "\n",
       "   season store_type   brand       revenue  \n",
       "0  Spring     Online  BrandA   3949.165238  \n",
       "1  Summer     Online  BrandD  -3521.002258  \n",
       "2    Fall     Online  BrandD  14285.560219  \n",
       "3  Summer     Retail  BrandD  12261.073703  \n",
       "4    Fall     Online  BrandD  -4588.255733  "
      ]
     },
     "execution_count": 12,
     "metadata": {},
     "output_type": "execute_result"
    }
   ],
   "source": [
    "import pandas as pd\n",
    "import numpy as np\n",
    "import matplotlib.pyplot as plt\n",
    "# Carregar o arquivo CSV\n",
    "df = pd.read_csv('Furniture.csv')\n",
    "# Exibir as primeiras linhas\n",
    "df.head()\n"
   ]
  },
  {
   "cell_type": "markdown",
   "metadata": {},
   "source": [
    "#"
   ]
  },
  {
   "cell_type": "markdown",
   "metadata": {},
   "source": [
    "# Verificando as informações "
   ]
  },
  {
   "cell_type": "code",
   "execution_count": 13,
   "metadata": {},
   "outputs": [
    {
     "data": {
      "text/plain": [
       "price                  0\n",
       "cost                   0\n",
       "sales                  0\n",
       "profit_margin          0\n",
       "inventory              0\n",
       "discount_percentage    0\n",
       "delivery_days          0\n",
       "category               0\n",
       "material               0\n",
       "color                  0\n",
       "location               0\n",
       "season                 0\n",
       "store_type             0\n",
       "brand                  0\n",
       "revenue                0\n",
       "dtype: int64"
      ]
     },
     "execution_count": 13,
     "metadata": {},
     "output_type": "execute_result"
    }
   ],
   "source": [
    "# Verificar se há valores ausentes\n",
    "df.isnull().sum()\n"
   ]
  },
  {
   "cell_type": "code",
   "execution_count": 14,
   "metadata": {},
   "outputs": [
    {
     "data": {
      "text/plain": [
       "price                  float64\n",
       "cost                   float64\n",
       "sales                    int64\n",
       "profit_margin          float64\n",
       "inventory                int64\n",
       "discount_percentage    float64\n",
       "delivery_days            int64\n",
       "category                object\n",
       "material                object\n",
       "color                   object\n",
       "location                object\n",
       "season                  object\n",
       "store_type              object\n",
       "brand                   object\n",
       "revenue                float64\n",
       "dtype: object"
      ]
     },
     "execution_count": 14,
     "metadata": {},
     "output_type": "execute_result"
    }
   ],
   "source": [
    "# Verificar tipos de dados\n",
    "df.dtypes"
   ]
  },
  {
   "cell_type": "code",
   "execution_count": 15,
   "metadata": {},
   "outputs": [],
   "source": [
    "# Salvar em um novo arquivo CSV\n",
    "df.to_csv('dados_tratados.csv', index=False)"
   ]
  },
  {
   "cell_type": "code",
   "execution_count": 16,
   "metadata": {},
   "outputs": [
    {
     "name": "stdout",
     "output_type": "stream",
     "text": [
      "Estatísticas resumidas:\n",
      "             price         cost        sales  profit_margin\n",
      "count  2500.000000  2500.000000  2500.000000    2500.000000\n",
      "mean    274.495219   191.930107    24.924000      30.208571\n",
      "std     130.898452    98.590751    14.050067      11.536804\n",
      "min      50.704297    26.505895     1.000000      10.017692\n",
      "25%     159.104890   106.399135    13.000000      20.230697\n",
      "50%     277.641809   189.336329    25.000000      30.297911\n",
      "75%     387.378046   263.188280    37.000000      40.134205\n",
      "max     499.872953   447.022911    49.000000      49.999535\n"
     ]
    }
   ],
   "source": [
    "# Calculando estatísticas resumidas\n",
    "summary_stats = df[['price', 'cost', 'sales', 'profit_margin']].describe()\n",
    "\n",
    "print(\"Estatísticas resumidas:\")\n",
    "print(summary_stats)"
   ]
  },
  {
   "cell_type": "markdown",
   "metadata": {},
   "source": [
    "#"
   ]
  },
  {
   "cell_type": "markdown",
   "metadata": {},
   "source": [
    "# 1.  Qual é a distribuição das vendas e margens de lucro?"
   ]
  },
  {
   "cell_type": "code",
   "execution_count": 17,
   "metadata": {},
   "outputs": [
    {
     "data": {
      "image/png": "[encoded data removed]",
      "text/plain": [
       "<Figure size 1200x600 with 2 Axes>"
      ]
     },
     "metadata": {},
     "output_type": "display_data"
    }
   ],
   "source": [
    "# Plotando o histograma para vendas\n",
    "plt.figure(figsize=(12, 6))\n",
    "\n",
    "plt.subplot(1, 2, 1)\n",
    "plt.hist(df['sales'], bins=10, edgecolor='black', color='skyblue')\n",
    "plt.xlabel('Vendas')\n",
    "plt.ylabel('Frequência')\n",
    "plt.title('Distribuição das Vendas')\n",
    "\n",
    "# Plotando o histograma para margens de lucro\n",
    "plt.subplot(1, 2, 2)\n",
    "plt.hist(df['profit_margin'], bins=10, edgecolor='black', color='salmon')\n",
    "plt.xlabel('Margem de Lucro')\n",
    "plt.ylabel('Frequência')\n",
    "plt.title('Distribuição das Margens de Lucro')\n",
    "\n",
    "plt.tight_layout()\n",
    "plt.show()"
   ]
  },
  {
   "cell_type": "markdown",
   "metadata": {},
   "source": [
    "De acordo com as informações fornecidas podemos ver que os graficos apresentam uma forte semelhança Possuindo poucas diferenças entre as vendas e o lucro"
   ]
  },
  {
   "cell_type": "markdown",
   "metadata": {},
   "source": [
    "#"
   ]
  },
  {
   "cell_type": "markdown",
   "metadata": {},
   "source": [
    "# 2. Qual categoria gerou a maior receita total?"
   ]
  },
  {
   "cell_type": "code",
   "execution_count": 18,
   "metadata": {},
   "outputs": [
    {
     "name": "stdout",
     "output_type": "stream",
     "text": [
      "A categoria que gerou a maior receita total é 'Table' com uma receita de 3366945.45.\n"
     ]
    }
   ],
   "source": [
    "# Calculando a receita total por categoria\n",
    "category_revenue = df.groupby('category')['revenue'].sum()\n",
    "\n",
    "# Encontrando a categoria com a maior receita\n",
    "highest_revenue_category = category_revenue.idxmax()\n",
    "highest_revenue_value = category_revenue.max()\n",
    "\n",
    "print(f\"A categoria que gerou a maior receita total é '{highest_revenue_category}' com uma receita de {highest_revenue_value:.2f}.\")"
   ]
  },
  {
   "cell_type": "markdown",
   "metadata": {},
   "source": [
    "#"
   ]
  },
  {
   "cell_type": "markdown",
   "metadata": {},
   "source": [
    "# 3. Existe algum padrão sazonal nas vendas?"
   ]
  },
  {
   "cell_type": "code",
   "execution_count": 19,
   "metadata": {},
   "outputs": [
    {
     "data": {
      "image/png": "[encoded data removed]",
      "text/plain": [
       "<Figure size 1000x600 with 1 Axes>"
      ]
     },
     "metadata": {},
     "output_type": "display_data"
    },
    {
     "name": "stdout",
     "output_type": "stream",
     "text": [
      "Vendas totais por estação:\n",
      "season\n",
      "Fall      15970\n",
      "Spring    15339\n",
      "Summer    14588\n",
      "Winter    16413\n",
      "Name: sales, dtype: int64\n"
     ]
    }
   ],
   "source": [
    "# Calculando as vendas totais por estação\n",
    "seasonal_sales = df.groupby('season')['sales'].sum()\n",
    "\n",
    "# Plotando as vendas por estação\n",
    "plt.figure(figsize=(10, 6))\n",
    "plt.bar(seasonal_sales.index, seasonal_sales.values, color='skyblue', edgecolor='black')\n",
    "plt.xlabel(\"Estação\")\n",
    "plt.ylabel(\"Vendas Totais\")\n",
    "plt.title(\"Vendas Totais por Estação\")\n",
    "plt.show()\n",
    "\n",
    "print(\"Vendas totais por estação:\")\n",
    "print(seasonal_sales)"
   ]
  },
  {
   "cell_type": "markdown",
   "metadata": {},
   "source": [
    "Há um leve padrão sazonal nas vendas, com o inverno e outono apresentando as maiores vendas, e o verão as menores. Isso pode indicar que as vendas aumentam durante os meses mais frios, possivelmente devido a mudanças nos hábitos de consumo durante essas épocas."
   ]
  },
  {
   "cell_type": "markdown",
   "metadata": {},
   "source": [
    "#"
   ]
  },
  {
   "cell_type": "markdown",
   "metadata": {},
   "source": [
    "# 4. Qual estação teve o maior total de vendas?"
   ]
  },
  {
   "cell_type": "code",
   "execution_count": 20,
   "metadata": {},
   "outputs": [
    {
     "name": "stdout",
     "output_type": "stream",
     "text": [
      "A estação com o maior total de vendas é Winter com 16413 vendas totais.\n"
     ]
    }
   ],
   "source": [
    "seasonal_sales = df.groupby('season')['sales'].sum()\n",
    "\n",
    "# Encontrando a estação com o maior total de vendas\n",
    "max_sales_season = seasonal_sales.idxmax()\n",
    "max_sales_value = seasonal_sales.max()\n",
    "\n",
    "print(f\"A estação com o maior total de vendas é {max_sales_season} com {max_sales_value} vendas totais.\")"
   ]
  },
  {
   "cell_type": "markdown",
   "metadata": {},
   "source": [
    "#"
   ]
  },
  {
   "cell_type": "markdown",
   "metadata": {},
   "source": [
    "# 5. Qual localização tem a maior média de vendas por produto?"
   ]
  },
  {
   "cell_type": "code",
   "execution_count": 21,
   "metadata": {},
   "outputs": [
    {
     "name": "stdout",
     "output_type": "stream",
     "text": [
      "A localização com a maior média de vendas por produto é Urban com uma média de 25.21 vendas por produto.\n"
     ]
    }
   ],
   "source": [
    "location_sales_mean = df.groupby('location')['sales'].mean()\n",
    "\n",
    "# Encontrando a localização com a maior média de vendas\n",
    "max_sales_location = location_sales_mean.idxmax()\n",
    "max_sales_value = location_sales_mean.max()\n",
    "\n",
    "print(f\"A localização com a maior média de vendas por produto é {max_sales_location} com uma média de {max_sales_value:.2f} vendas por produto.\")"
   ]
  },
  {
   "cell_type": "markdown",
   "metadata": {},
   "source": [
    "#"
   ]
  },
  {
   "cell_type": "markdown",
   "metadata": {},
   "source": [
    "# 6. Existem diferenças nas vendas ou margens de lucro com base na localização (rural, suburbana, urbana)?"
   ]
  },
  {
   "cell_type": "code",
   "execution_count": 22,
   "metadata": {},
   "outputs": [
    {
     "name": "stdout",
     "output_type": "stream",
     "text": [
      "Média e Mediana das Vendas por Localização:\n",
      "               mean  median\n",
      "location                   \n",
      "Rural     24.943144    25.0\n",
      "Suburban  24.623616    25.0\n",
      "Urban     25.211392    25.0\n",
      "\n",
      "Média e Mediana das Margens de Lucro por Localização:\n",
      "               mean     median\n",
      "location                      \n",
      "Rural     29.964232  29.866195\n",
      "Suburban  30.462099  30.074802\n",
      "Urban     30.225096  30.881855\n"
     ]
    }
   ],
   "source": [
    "sales_by_location = df.groupby('location')['sales'].agg(['mean', 'median'])\n",
    "profit_margin_by_location = df.groupby('location')['profit_margin'].agg(['mean', 'median'])\n",
    "\n",
    "# Exibindo os resultados\n",
    "print(\"Média e Mediana das Vendas por Localização:\")\n",
    "print(sales_by_location)\n",
    "print(\"\\nMédia e Mediana das Margens de Lucro por Localização:\")\n",
    "print(profit_margin_by_location)"
   ]
  },
  {
   "cell_type": "markdown",
   "metadata": {},
   "source": [
    "# Vendas por Localização\n",
    "\n",
    "Média: A média das vendas é ligeiramente mais alta em 'Urbana' (25.21) comparado com 'Rural' (24.94) e 'Suburbana' (24.62).\n",
    "\n",
    "Mediana: A mediana das vendas é igual para todas as localizações, indicando que a distribuição das vendas é semelhante para essas localizações, mas a média pode ser afetada por valores extremos.\n",
    "\n",
    "# Margem de Lucro por Localização\n",
    "\n",
    "Média: A margem de lucro média é mais alta na 'Suburbana' (30.46) comparado com 'Rural' (29.96) e 'Urbana' (30.23).\n",
    "\n",
    "Mediana: A mediana da margem de lucro é mais alta na 'Urbana' (30.88) comparado com 'Rural' (29.87) e 'Suburbana' (30.07), indicando que a distribuição pode ter valores mais altos na 'Urbana'."
   ]
  }
 ],
 "metadata": {
  "kernelspec": {
   "display_name": "Python 3",
   "language": "python",
   "name": "python3"
  },
  "language_info": {
   "codemirror_mode": {
    "name": "ipython",
    "version": 3
   },
   "file_extension": ".py",
   "mimetype": "text/x-python",
   "name": "python",
   "nbconvert_exporter": "python",
   "pygments_lexer": "ipython3",
   "version": "3.12.5"
  }
 },
 "nbformat": 4,
 "nbformat_minor": 2
}
